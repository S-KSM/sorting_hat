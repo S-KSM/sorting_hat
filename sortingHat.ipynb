{
 "cells": [
  {
   "cell_type": "code",
   "execution_count": 1,
   "metadata": {
    "collapsed": true
   },
   "outputs": [],
   "source": [
    "import pandas as pd\n",
    "import glob\n",
    "import re\n",
    "import requests\n",
    "\n",
    "import numpy as np"
   ]
  },
  {
   "cell_type": "code",
   "execution_count": 2,
   "metadata": {
    "collapsed": false
   },
   "outputs": [],
   "source": [
    "def mygender(name):\n",
    "    lastname , firstname = name.split(\",\")\n",
    "    firstname = firstname.split(\" \")[0]\n",
    "    #print(firstname)\n",
    "    payload = {'name': str(firstname)}\n",
    "    r = requests.get('https://api.genderize.io/?', params=payload)\n",
    "    try:\n",
    "        sex = r.json()['gender']\n",
    "        if sex != None:\n",
    "            return sex\n",
    "        else:\n",
    "            return 'male'\n",
    "    except:\n",
    "        return 'male'"
   ]
  },
  {
   "cell_type": "code",
   "execution_count": 3,
   "metadata": {
    "collapsed": true
   },
   "outputs": [],
   "source": [
    "class member:\n",
    "    def __init__(self,name,ID,plan,level,sex):\n",
    "        #print(name)\n",
    "        self.lastname , self.firstname = name.split(\",\")\n",
    "        self.ID = ID\n",
    "        self.plan = plan\n",
    "        self.level = level\n",
    "        self.sex = sex\n",
    "        \n",
    "        \n",
    "class groups(member):\n",
    "    def __init__(self,code):\n",
    "        self.number = 0\n",
    "        self.member = []\n",
    "        self.gplans = {}\n",
    "        self.glevels = {}\n",
    "        self.gsexs = {}\n",
    "        self.code = code\n",
    "        #self.Rec_sec = Rec_sec\n",
    "        self.maxmember = 6\n",
    "        \n",
    "    def num(self):\n",
    "        return self.number\n",
    "    \n",
    "    def add_member(self,mymember):\n",
    "        if self.number < self.maxmember:\n",
    "            self.member.append((mymember.firstname,mymember.lastname,mymember.ID))\n",
    "            self.number += 1\n",
    "            self.ID = mymember.ID\n",
    "\n",
    "            if mymember.plan in self.gplans:\n",
    "                self.gplans[mymember.plan] += 1\n",
    "            else:\n",
    "                self.gplans[mymember.plan] = 1\n",
    "\n",
    "\n",
    "            if mymember.level in self.glevels:\n",
    "                self.glevels[mymember.level] += 1\n",
    "            else:\n",
    "                self.glevels[mymember.level] = 1\n",
    "\n",
    "            if mymember.sex in self.gsexs:\n",
    "                self.gsexs[mymember.sex] += 1\n",
    "            else:\n",
    "                self.gsexs[mymember.sex] = 1\n",
    "\n",
    "    def get_sex(self):\n",
    "        return self.gsexs\n",
    "        \n",
    "    def get_levels(self):\n",
    "        return self.glevels\n",
    "        \n",
    "    def get_plans(self):\n",
    "        return self.gplans\n",
    "    def get_members(self):\n",
    "        return [self.member[i] for i in range(self.number)]\n",
    "    \n",
    "  "
   ]
  },
  {
   "cell_type": "code",
   "execution_count": 4,
   "metadata": {
    "collapsed": true
   },
   "outputs": [],
   "source": [
    "path = \"./data/*.xlsx\""
   ]
  },
  {
   "cell_type": "code",
   "execution_count": 7,
   "metadata": {
    "collapsed": false
   },
   "outputs": [
    {
     "name": "stderr",
     "output_type": "stream",
     "text": [
      "C:\\Users\\skhezrse\\AppData\\Local\\Continuum\\Anaconda3\\lib\\site-packages\\ipykernel\\__main__.py:17: FutureWarning: sort(columns=....) is deprecated, use sort_values(by=.....)\n"
     ]
    }
   ],
   "source": [
    "for file in glob.glob(path):\n",
    "    \n",
    "    dictGroups ={}\n",
    "    lstMember =[]\n",
    "    my_zip = {'70642':'114R1','70643':'114R2','70644':'114R3','70645':'114R4','70647':'114R5',\n",
    "             '81063':'114R6','73464':'114R7','73465':'114R8','81064':'114R9','74823':'114R10','75922':'114R11',\n",
    "             '76961':'114R12','76962':'114R13','78707':'114R14','79377':'114R15','82286':'114R16','84892':'114R17',\n",
    "             '84893':'114R18','84894':'114R19','84895':'114R20','84896':'114R21'}\n",
    "    my_table={0:\"H\",1:\"He\",2:\"Li\",3:\"Be\",4:\"B\",5:\"C\",6:\"N\",7:\"O\",8:\"F\",9:\"Ne\",10:\"Na\",11:\"Mg\",12:\"Al\"}\n",
    "    a = file.split(\" \")\n",
    "    code = re.findall(r'\\d+',a[0])[0]\n",
    "    df = pd.read_excel(file,\"Sheet1\",header=None)\n",
    "    df = df[[2,3,6,7]]\n",
    "    df.columns = [\"ID\",\"Name\",\"Program\",\"Level\"]\n",
    "    df['Select'] = np.array(list(map(mygender,df.Name.tolist())))\n",
    "    \n",
    "    df = df.sort([\"Select\",\"Program\",\"Level\"])\n",
    "    if df.shape[0] > 72:\n",
    "        x = 13\n",
    "    else:\n",
    "        x = 12\n",
    "    for i in range(x):\n",
    "        dictGroups[i] = groups(code = code)\n",
    "    \n",
    "    for row in range(df.shape[0]):\n",
    "        lstMember.append(member(df.iloc[row,1],df.iloc[row,0],df.iloc[row,2],df.iloc[row,3],df.iloc[row,4]))    \n",
    "    \n",
    "    for i in range(len(lstMember)):\n",
    "        dictGroups[i%x].add_member(lstMember[i])\n",
    "        \n",
    "    b = {}\n",
    "    for i in range(len(dictGroups)):\n",
    "        b[i] = dictGroups[i].get_members()\n",
    "        \n",
    "    #pd.DataFrame(b).to_excel(\"output/\"+code+\"-\"+my_zip[code]+\".xlsx\",sheet_name=\"Sheet1\",index= False)    \n",
    "    w = open(\"output/\"+code+\"-\"+my_zip[code]+\".csv\",\"w\")\n",
    "    for item in b:\n",
    "        for i in b[item]:\n",
    "            firstname,lastname,ID = i\n",
    "            w.write(my_table[item]+','+str(ID)+','+lastname+','+firstname+'\\n')\n",
    "    w.close()"
   ]
  },
  {
   "cell_type": "code",
   "execution_count": null,
   "metadata": {
    "collapsed": true
   },
   "outputs": [],
   "source": []
  }
 ],
 "metadata": {
  "anaconda-cloud": {},
  "kernelspec": {
   "display_name": "Python [Root]",
   "language": "python",
   "name": "Python [Root]"
  },
  "language_info": {
   "codemirror_mode": {
    "name": "ipython",
    "version": 3
   },
   "file_extension": ".py",
   "mimetype": "text/x-python",
   "name": "python",
   "nbconvert_exporter": "python",
   "pygments_lexer": "ipython3",
   "version": "3.5.2"
  }
 },
 "nbformat": 4,
 "nbformat_minor": 0
}
