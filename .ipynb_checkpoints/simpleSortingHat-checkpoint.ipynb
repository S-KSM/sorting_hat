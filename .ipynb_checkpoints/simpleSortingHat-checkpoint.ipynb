{
 "cells": [
  {
   "cell_type": "code",
   "execution_count": 1,
   "metadata": {
    "collapsed": true
   },
   "outputs": [],
   "source": [
    "import pandas as pd\n",
    "import glob\n",
    "import re"
   ]
  },
  {
   "cell_type": "code",
   "execution_count": 2,
   "metadata": {
    "collapsed": true
   },
   "outputs": [],
   "source": [
    "path = \"./data/*.xlsx\""
   ]
  },
  {
   "cell_type": "code",
   "execution_count": 3,
   "metadata": {
    "collapsed": true
   },
   "outputs": [],
   "source": [
    "class member:\n",
    "    def __init__(self,name,ID,plan,level,sex):\n",
    "        self.lastname , self.firstname = name.split(\",\")\n",
    "        self.ID = ID\n",
    "        self.plan = plan\n",
    "        self.level = level\n",
    "        self.sex = sex\n",
    "        \n",
    "        \n",
    "class groups(member):\n",
    "    def __init__(self,code,Rec_sec):\n",
    "        self.number = 0\n",
    "        self.member = []\n",
    "        self.gplans = {}\n",
    "        self.glevels = {}\n",
    "        self.gsexs = {}\n",
    "        self.code = code\n",
    "        self.Rec_sec = Rec_sec\n",
    "        self.maxmember = 6\n",
    "        \n",
    "    def num(self):\n",
    "        return self.number\n",
    "    \n",
    "    def add_member(self,mymember):\n",
    "        if self.number < self.maxmember:\n",
    "            self.member.append((mymember.firstname,mymember.lastname,mymember.ID))\n",
    "            self.number += 1\n",
    "            self.ID = mymember.ID\n",
    "\n",
    "            if mymember.plan in self.gplans:\n",
    "                self.gplans[mymember.plan] += 1\n",
    "            else:\n",
    "                self.gplans[mymember.plan] = 1\n",
    "\n",
    "\n",
    "            if mymember.level in self.glevels:\n",
    "                self.glevels[mymember.level] += 1\n",
    "            else:\n",
    "                self.glevels[mymember.level] = 1\n",
    "\n",
    "            if mymember.sex in self.gsexs:\n",
    "                self.gsexs[mymember.sex] += 1\n",
    "            else:\n",
    "                self.gsexs[mymember.sex] = 1\n",
    "\n",
    "    def get_sex(self):\n",
    "        return self.gsexs\n",
    "        \n",
    "    def get_levels(self):\n",
    "        return self.glevels\n",
    "        \n",
    "    def get_plans(self):\n",
    "        return self.gplans\n",
    "    def get_members(self):\n",
    "        return [self.member[i] for i in range(self.number)]\n",
    "    \n",
    "        "
   ]
  },
  {
   "cell_type": "code",
   "execution_count": 6,
   "metadata": {
    "collapsed": false
   },
   "outputs": [
    {
     "name": "stderr",
     "output_type": "stream",
     "text": [
      "C:\\Users\\skhezrse\\AppData\\Local\\Continuum\\Anaconda3\\lib\\site-packages\\ipykernel\\__main__.py:11: FutureWarning: sort(columns=....) is deprecated, use sort_values(by=.....)\n"
     ]
    }
   ],
   "source": [
    "for file in glob.glob(path):\n",
    "    a = file.split(\" \")\n",
    "    code = re.findall(r'\\d+',a[0])[0]\n",
    "    Rec_sec = re.findall(r'\\w+',a[1])[0]\n",
    "    \n",
    "    dictGroups ={}\n",
    "    lstMember =[]\n",
    "    \n",
    "    df = pd.read_excel(file,sheetname=\"ps-4\")\n",
    "    df = df.reset_index()[[\"Select\",\"ID\",\"Name\",\"Program and Plan\", \"Level\"]]\n",
    "    df = df.sort([\"Select\",\"Program and Plan\",\"Level\"])\n",
    "    \n",
    "    for i in range(12):\n",
    "        dictGroups[i] = groups(code = code,Rec_sec=Rec_sec)\n",
    "    \n",
    "    for row in range(df.shape[0]):\n",
    "        lstMember.append(member(df.iloc[row,2],df.iloc[row,1],df.iloc[row,3],df.iloc[row,4],df.iloc[row,0]))    \n",
    "    \n",
    "    for i in range(len(lstMember)):\n",
    "        dictGroups[i%12].add_member(lstMember[i])\n",
    "        \n",
    "    b = {}\n",
    "    for i in range(len(dictGroups)):\n",
    "        b[i] = dictGroups[i].get_members()\n",
    "        \n",
    "    pd.DataFrame(b).T.to_excel(\"output/\"+Rec_sec+\".xlsx\",sheet_name=\"Sheet1\",index= False)\n",
    "    \n",
    "    "
   ]
  },
  {
   "cell_type": "code",
   "execution_count": 16,
   "metadata": {
    "collapsed": true
   },
   "outputs": [],
   "source": [
    "class person:\n",
    "        def __init__(self,name,vacation,projects,tasks):\n",
    "            self.name = name\n",
    "            self.vacation = vacation\n",
    "            self.projects = projects\n",
    "            self.tasks = tasks\n",
    "            \n",
    "        def priority(self):\n",
    "            return (self.tasks,self.projects,self.name)"
   ]
  },
  {
   "cell_type": "code",
   "execution_count": 27,
   "metadata": {
    "collapsed": false
   },
   "outputs": [],
   "source": [
    "me = person(a,b,c,d)\n",
    "e,f,g,h =  [\"John\",\"1\",\"1\",\"2\"]\n",
    "me2=person(e,f,g,h)\n",
    "me3=person(\"Johnss\",\"1\",\"1\",\"1\")"
   ]
  },
  {
   "cell_type": "code",
   "execution_count": 28,
   "metadata": {
    "collapsed": false
   },
   "outputs": [],
   "source": [
    "k = [me.priority(),me2.priority(),me3.priority()]"
   ]
  },
  {
   "cell_type": "code",
   "execution_count": 32,
   "metadata": {
    "collapsed": false
   },
   "outputs": [
    {
     "data": {
      "text/plain": [
       "'Johnss'"
      ]
     },
     "execution_count": 32,
     "metadata": {},
     "output_type": "execute_result"
    }
   ],
   "source": [
    "sorted(k)[0][2]"
   ]
  },
  {
   "cell_type": "code",
   "execution_count": null,
   "metadata": {
    "collapsed": true
   },
   "outputs": [],
   "source": [
    "def smartAssigning(information):\n",
    "    class person:\n",
    "        def __init__(self,name,vacation,projects,tasks):\n",
    "            self.name = name\n",
    "            self.vacation = vacation\n",
    "            self.projects = projects\n",
    "            self.tasks = tasks\n",
    "            \n",
    "        def priority(self):\n",
    "            return (self.tasks,self.projects,self.name)\n",
    "    mylist = []    \n",
    "    for i in information:\n",
    "        if i[1] != 0:\n",
    "            a,b,c,d = i\n",
    "            mytemp = person(a,b,c,d)\n",
    "            mylist.append(mytemp.priority())\n",
    "            \n",
    "    return sorted(mylist)[0][0]"
   ]
  },
  {
   "cell_type": "code",
   "execution_count": 53,
   "metadata": {
    "collapsed": false
   },
   "outputs": [
    {
     "data": {
      "text/plain": [
       "datetime.datetime(2011, 12, 1, 0, 0)"
      ]
     },
     "execution_count": 53,
     "metadata": {},
     "output_type": "execute_result"
    }
   ],
   "source": [
    "import time\n",
    "import datetime\n",
    "s = \"01/12/2011\"\n",
    "datetime.datetime.strptime(s, \"%d/%m/%Y\") "
   ]
  },
  {
   "cell_type": "code",
   "execution_count": 39,
   "metadata": {
    "collapsed": false
   },
   "outputs": [
    {
     "data": {
      "text/plain": [
       "datetime.date(1, 4, 10)"
      ]
     },
     "execution_count": 39,
     "metadata": {},
     "output_type": "execute_result"
    }
   ],
   "source": []
  },
  {
   "cell_type": "code",
   "execution_count": 51,
   "metadata": {
    "collapsed": false
   },
   "outputs": [
    {
     "ename": "NameError",
     "evalue": "name 'S' is not defined",
     "output_type": "error",
     "traceback": [
      "\u001b[1;31m---------------------------------------------------------------------------\u001b[0m",
      "\u001b[1;31mNameError\u001b[0m                                 Traceback (most recent call last)",
      "\u001b[1;32m<ipython-input-51-25106a2c9169>\u001b[0m in \u001b[0;36m<module>\u001b[1;34m()\u001b[0m\n\u001b[1;32m----> 1\u001b[1;33m \u001b[0mdatetime\u001b[0m\u001b[1;33m.\u001b[0m\u001b[0mdatetime\u001b[0m\u001b[1;33m.\u001b[0m\u001b[0mstrptime\u001b[0m\u001b[1;33m(\u001b[0m\u001b[0mS\u001b[0m\u001b[1;33m,\u001b[0m\u001b[1;34m\"%d-%m-%Y\"\u001b[0m\u001b[1;33m)\u001b[0m\u001b[1;33m\u001b[0m\u001b[0m\n\u001b[0m",
      "\u001b[1;31mNameError\u001b[0m: name 'S' is not defined"
     ]
    }
   ],
   "source": [
    "datetime.datetime.strptime(S,\"%d-%m-%Y\")"
   ]
  },
  {
   "cell_type": "code",
   "execution_count": 59,
   "metadata": {
    "collapsed": false
   },
   "outputs": [],
   "source": [
    "import datetime\n",
    "import time\n",
    "\n",
    "def recurringTask(firstDate, k, daysOfTheWeek, n):\n",
    "    myweekday = {\"Sunday\":6, \"Monday\":0, \"Tuesday\":1, \"Wednesday\":2,\n",
    "                 \"Thursday\":3, \"Friday\":4, \"Saturday\":5}\n",
    "    \n",
    "    u = datetime.datetime.strptime(firstDate,\"%d/%m/%Y\")\n",
    "    initday = datetime.datetime.weekday(u)\n",
    "    \n",
    "    \n",
    "    \n",
    "    def myfunc (initday,myweekday):\n",
    "        days = abs(initday - myweekday)\n",
    "        if days != 3:\n",
    "            return datetime.timedelta((days))\n",
    "        else:\n",
    "            return datetime.timedelta(7-days)\n",
    "    myinit = set([u + myfunc(initday,myweekday[i]) for i in daysOfTheWeek])\n",
    "    myinit = list(myinit)\n",
    "  \n",
    "    #print(myinit)\n",
    "    d = datetime.timedelta(weeks=k)\n",
    "    \n",
    "    while len(myinit) < n:\n",
    "        myinit += [i + d for i in myinit]\n",
    "        \n",
    "    myinit = sorted(myinit)\n",
    "    return [datetime.datetime.strftime(i,\"%d/%m/%Y\") for i in myinit][:n]"
   ]
  },
  {
   "cell_type": "code",
   "execution_count": 62,
   "metadata": {
    "collapsed": false
   },
   "outputs": [
    {
     "data": {
      "text/plain": [
       "3"
      ]
     },
     "execution_count": 62,
     "metadata": {},
     "output_type": "execute_result"
    }
   ],
   "source": [
    "datetime.datetime.weekday(u)"
   ]
  },
  {
   "cell_type": "code",
   "execution_count": null,
   "metadata": {
    "collapsed": true
   },
   "outputs": [],
   "source": []
  }
 ],
 "metadata": {
  "kernelspec": {
   "display_name": "Python [Root]",
   "language": "python",
   "name": "Python [Root]"
  },
  "language_info": {
   "codemirror_mode": {
    "name": "ipython",
    "version": 3
   },
   "file_extension": ".py",
   "mimetype": "text/x-python",
   "name": "python",
   "nbconvert_exporter": "python",
   "pygments_lexer": "ipython3",
   "version": "3.5.2"
  }
 },
 "nbformat": 4,
 "nbformat_minor": 0
}
