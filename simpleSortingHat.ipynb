{
 "cells": [
  {
   "cell_type": "code",
   "execution_count": 1,
   "metadata": {
    "collapsed": true
   },
   "outputs": [],
   "source": [
    "import pandas as pd"
   ]
  },
  {
   "cell_type": "code",
   "execution_count": 2,
   "metadata": {
    "collapsed": true
   },
   "outputs": [],
   "source": [
    "df = pd.read_excel(\"./data/70251 113R1.xlsx\",sheetname=\"ps-4\")\n",
    "df = df.reset_index()[[\"Select\",\"ID\",\"Name\",\"Program and Plan\", \"Level\"]]"
   ]
  },
  {
   "cell_type": "code",
   "execution_count": 3,
   "metadata": {
    "collapsed": false
   },
   "outputs": [],
   "source": [
    "df_f = df[df[\"Select\"]==\"f\"]\n",
    "df_m = df[df[\"Select\"]==\"m\"]"
   ]
  },
  {
   "cell_type": "code",
   "execution_count": 4,
   "metadata": {
    "collapsed": false
   },
   "outputs": [],
   "source": [
    "class member:\n",
    "    def __init__(self,name,ID,plan,level,sex):\n",
    "        self.name = name\n",
    "        self.ID = ID\n",
    "        self.plan = plan\n",
    "        self.level = level\n",
    "        self.sex = sex\n",
    "        \n",
    "        \n",
    "class groups(member):\n",
    "    def __init__(self):\n",
    "        self.number = 0\n",
    "        self.member = []\n",
    "        self.gplans = {}\n",
    "        self.glevels = {}\n",
    "        self.gsexs = {}\n",
    "        self.maxmember = 6\n",
    "        \n",
    "    def num(self):\n",
    "        return self.number\n",
    "    \n",
    "    def add_member(self,mymember):\n",
    "        if self.number < self.maxmember:\n",
    "            self.member.append((mymember.name,mymember.ID))\n",
    "            self.number += 1\n",
    "            self.ID = mymember.ID\n",
    "\n",
    "            if mymember.plan in self.gplans:\n",
    "                self.gplans[mymember.plan] += 1\n",
    "            else:\n",
    "                self.gplans[mymember.plan] = 1\n",
    "\n",
    "\n",
    "            if mymember.level in self.glevels:\n",
    "                self.glevels[mymember.level] += 1\n",
    "            else:\n",
    "                self.glevels[mymember.level] = 1\n",
    "\n",
    "            if mymember.sex in self.gsexs:\n",
    "                self.gsexs[mymember.sex] += 1\n",
    "            else:\n",
    "                self.gsexs[mymember.sex] = 1\n",
    "\n",
    "    def get_sex(self):\n",
    "        return self.gsexs\n",
    "        \n",
    "    def get_levels(self):\n",
    "        return self.glevels\n",
    "        \n",
    "    def get_plans(self):\n",
    "        return self.gplans\n",
    "    def get_members(self):\n",
    "        return [self.member[i] for i in range(self.number)]\n",
    "    \n",
    "        \n"
   ]
  },
  {
   "cell_type": "code",
   "execution_count": 5,
   "metadata": {
    "collapsed": true
   },
   "outputs": [],
   "source": [
    "dictGroups ={}\n",
    "lstMember =[]"
   ]
  },
  {
   "cell_type": "code",
   "execution_count": 6,
   "metadata": {
    "collapsed": false
   },
   "outputs": [
    {
     "name": "stderr",
     "output_type": "stream",
     "text": [
      "C:\\Users\\skhezrse\\AppData\\Local\\Continuum\\Anaconda3\\lib\\site-packages\\ipykernel\\__main__.py:1: FutureWarning: sort(columns=....) is deprecated, use sort_values(by=.....)\n",
      "  if __name__ == '__main__':\n"
     ]
    }
   ],
   "source": [
    "df = df.sort([\"Select\",\"Program and Plan\",\"Level\"])"
   ]
  },
  {
   "cell_type": "code",
   "execution_count": 7,
   "metadata": {
    "collapsed": false
   },
   "outputs": [],
   "source": [
    "for row in range(df.shape[0]):\n",
    "    lstMember.append(member(df.iloc[row,2],df.iloc[row,1],df.iloc[row,3],df.iloc[row,4],df.iloc[row,0]))\n",
    "    \n",
    "    "
   ]
  },
  {
   "cell_type": "code",
   "execution_count": 8,
   "metadata": {
    "collapsed": false
   },
   "outputs": [],
   "source": [
    "for i in range(12):\n",
    "    dictGroups[i] = groups()"
   ]
  },
  {
   "cell_type": "code",
   "execution_count": 9,
   "metadata": {
    "collapsed": false
   },
   "outputs": [],
   "source": [
    "for i in range(len(lstMember)):\n",
    "    dictGroups[i%12].add_member(lstMember[i])"
   ]
  },
  {
   "cell_type": "code",
   "execution_count": 10,
   "metadata": {
    "collapsed": false
   },
   "outputs": [],
   "source": [
    "a = {}\n",
    "for i in range(len(dictGroups)):\n",
    "    a[i] = dictGroups[i].get_members()"
   ]
  },
  {
   "cell_type": "code",
   "execution_count": 11,
   "metadata": {
    "collapsed": false
   },
   "outputs": [],
   "source": [
    "pd.DataFrame(a).to_excel(\"output/groups.xlsx\",sheet_name=\"Sheet1\",\n",
    "                         header=[\"H\",\"He\",\"Li\",\"Be\",\"B\",\"C\",\"N\",\"O\",\"F\",\"Ne\",\"Na\",\"Mg\"],index= False)"
   ]
  },
  {
   "cell_type": "code",
   "execution_count": null,
   "metadata": {
    "collapsed": true
   },
   "outputs": [],
   "source": []
  },
  {
   "cell_type": "code",
   "execution_count": null,
   "metadata": {
    "collapsed": true
   },
   "outputs": [],
   "source": []
  },
  {
   "cell_type": "code",
   "execution_count": null,
   "metadata": {
    "collapsed": true
   },
   "outputs": [],
   "source": []
  }
 ],
 "metadata": {
  "kernelspec": {
   "display_name": "Python [Root]",
   "language": "python",
   "name": "Python [Root]"
  },
  "language_info": {
   "codemirror_mode": {
    "name": "ipython",
    "version": 3
   },
   "file_extension": ".py",
   "mimetype": "text/x-python",
   "name": "python",
   "nbconvert_exporter": "python",
   "pygments_lexer": "ipython3",
   "version": "3.5.2"
  }
 },
 "nbformat": 4,
 "nbformat_minor": 0
}
